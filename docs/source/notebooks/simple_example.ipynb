{
 "cells": [
  {
   "cell_type": "markdown",
   "metadata": {},
   "source": [
    "# Simple example"
   ]
  },
  {
   "cell_type": "code",
   "execution_count": 1,
   "metadata": {},
   "outputs": [],
   "source": [
    "# Add BipartitePandas to system path, do not run this\n",
    "import sys\n",
    "sys.path.append('../../..')"
   ]
  },
  {
   "cell_type": "markdown",
   "metadata": {},
   "source": [
    "## Import the BipartitePandas Package\n",
    "\n",
    "Make sure to install it using `pip install bipartitepandas`"
   ]
  },
  {
   "cell_type": "code",
   "execution_count": null,
   "metadata": {},
   "outputs": [],
   "source": [
    "import bipartitepandas as bpd"
   ]
  },
  {
   "cell_type": "markdown",
   "metadata": {},
   "source": [
    "## Get your data ready\n",
    "\n",
    "In this example, we simulate data (we set parameters to make data cleaning interesting)"
   ]
  },
  {
   "cell_type": "code",
   "execution_count": null,
   "metadata": {},
   "outputs": [],
   "source": [
    "df = bpd.SimBipartite(bpd.sim_params({'firm_size': 10, 'p_move': 0.05})).simulate()\n",
    "display(df)"
   ]
  },
  {
   "cell_type": "markdown",
   "metadata": {},
   "source": [
    "## Columns\n",
    "\n",
    "BipartitePandas includes 5 pre-defined general columns:\n",
    "\n",
    "#### Required\n",
    "- $i$: worker id (any type)\n",
    "- $j$: firm id (any type)\n",
    "- $y$: income (float or int)\n",
    "\n",
    "#### Optional\n",
    "- $t$: time (int)\n",
    "- $g$: firm type (any type)\n",
    "- $w$: weight (float or int)\n",
    "- $m$: move indicator (int)\n",
    "\n",
    "## Formats\n",
    "\n",
    "BipartitePandas includes 4 formats:\n",
    "- *Long* - each row gives a single observation\n",
    "- *Collapsed Long* - like *Long*, but employment spells at the same firm are collapsed into a single observation\n",
    "- *Event Study* - each row gives two consecutive observations\n",
    "- *Collapsed Event Study* - like *Event Study*, but employment spells at the same firm are collapsed into a single observation\n",
    "\n",
    "These formats divide general columns differently:\n",
    "- *Long* - $i$, $j$, $y$, $t$, $g$, $w$, $m$\n",
    "- *Collapsed Long* - $i$, $j$, $y$, $t1$, $t2$, $g$, $w$, $m$\n",
    "- *Event Study* - $i$, $j1$, $j2$, $y1$, $y2$, $t1$, $t2$, $g1$, $g2$, $w1$, $w2$, $m$\n",
    "- *Collapsed Event Study* - $i$, $j1$, $j2$, $y1$, $y2$, $t11$, $t12$, $t21$, $t22$, $g1$, $g2$, $w1$, $w2$, $m$\n",
    "\n",
    "## Constructing DataFrames\n",
    "\n",
    "Our simulated data is in *Long* format. How do we construct a *Long* dataframe?"
   ]
  },
  {
   "cell_type": "code",
   "execution_count": null,
   "metadata": {},
   "outputs": [],
   "source": [
    "i = df['i']\n",
    "j = df['j']\n",
    "y = df['y']\n",
    "t = df['t']\n",
    "bdf = bpd.BipartiteDataFrame(i=i, j=j, y=y, t=t)\n",
    "display(bdf)"
   ]
  },
  {
   "cell_type": "markdown",
   "metadata": {},
   "source": [
    "Are we sure this is long? Let's check the datatype:"
   ]
  },
  {
   "cell_type": "code",
   "execution_count": null,
   "metadata": {},
   "outputs": [],
   "source": [
    "type(bdf)"
   ]
  },
  {
   "cell_type": "markdown",
   "metadata": {},
   "source": [
    "## Before we clean our data, let's check out some statistics"
   ]
  },
  {
   "cell_type": "code",
   "execution_count": null,
   "metadata": {},
   "outputs": [],
   "source": [
    "bdf.summary()"
   ]
  },
  {
   "cell_type": "markdown",
   "metadata": {},
   "source": [
    "## Now let's clean our data - and make sure the result is leave-one-observation-out connected\n",
    "\n",
    "Hint: want details on all cleaning parameters? Type `bpd.clean_params().describe_all()`, or search through `bpd.clean_params().keys()` for a particular key, and then type `bpd.clean_params().describe(key)`."
   ]
  },
  {
   "cell_type": "code",
   "execution_count": null,
   "metadata": {},
   "outputs": [],
   "source": [
    "bdf = bdf.clean(bpd.clean_params({'connectedness': 'leave_out_observation'}))\n",
    "display(bdf)"
   ]
  },
  {
   "cell_type": "markdown",
   "metadata": {},
   "source": [
    "We can check how the summary statistics changed:"
   ]
  },
  {
   "cell_type": "code",
   "execution_count": null,
   "metadata": {},
   "outputs": [],
   "source": [
    "bdf.summary()"
   ]
  },
  {
   "cell_type": "markdown",
   "metadata": {},
   "source": [
    "## Converting formats"
   ]
  },
  {
   "cell_type": "markdown",
   "metadata": {},
   "source": [
    "### *Collapsed* format"
   ]
  },
  {
   "cell_type": "code",
   "execution_count": null,
   "metadata": {},
   "outputs": [],
   "source": [
    "display(bdf.collapse())"
   ]
  },
  {
   "cell_type": "markdown",
   "metadata": {},
   "source": [
    "### *Event Study* format"
   ]
  },
  {
   "cell_type": "code",
   "execution_count": null,
   "metadata": {},
   "outputs": [],
   "source": [
    "display(bdf.to_eventstudy())"
   ]
  },
  {
   "cell_type": "markdown",
   "metadata": {},
   "source": [
    "### *Collapsed Event Study* format"
   ]
  },
  {
   "cell_type": "code",
   "execution_count": null,
   "metadata": {},
   "outputs": [],
   "source": [
    "display(bdf.collapse().to_eventstudy())"
   ]
  },
  {
   "cell_type": "markdown",
   "metadata": {},
   "source": [
    "## Generating firm clusters\n",
    "\n",
    "Notice the new $g$ column"
   ]
  },
  {
   "cell_type": "code",
   "execution_count": null,
   "metadata": {},
   "outputs": [],
   "source": [
    "display(bdf.cluster())"
   ]
  }
 ],
 "metadata": {
  "kernelspec": {
   "display_name": "Python 3 (ipykernel)",
   "language": "python",
   "name": "python3"
  },
  "language_info": {
   "codemirror_mode": {
    "name": "ipython",
    "version": 3
   },
   "file_extension": ".py",
   "mimetype": "text/x-python",
   "name": "python",
   "nbconvert_exporter": "python",
   "pygments_lexer": "ipython3",
   "version": "3.7.11"
  }
 },
 "nbformat": 4,
 "nbformat_minor": 4
}
