{
 "cells": [
  {
   "cell_type": "markdown",
   "metadata": {},
   "source": [
    "# Simple example"
   ]
  },
  {
   "cell_type": "code",
   "execution_count": 1,
   "metadata": {},
   "outputs": [],
   "source": [
    "# Add BipartitePandas to system path, do not run this\n",
    "import sys\n",
    "sys.path.append('../../..')"
   ]
  },
  {
   "cell_type": "markdown",
   "metadata": {},
   "source": [
    "## Import the BipartitePandas Package\n",
    "\n",
    "Make sure to install it using `pip install bipartitepandas`"
   ]
  },
  {
   "cell_type": "code",
   "execution_count": 2,
   "metadata": {},
   "outputs": [
    {
     "name": "stderr",
     "output_type": "stream",
     "text": [
      "Intel(R) Extension for Scikit-learn* enabled (https://github.com/intel/scikit-learn-intelex)\n"
     ]
    }
   ],
   "source": [
    "import bipartitepandas as bpd"
   ]
  },
  {
   "cell_type": "markdown",
   "metadata": {},
   "source": [
    "## Get your data ready\n",
    "\n",
    "In this example, we simulate data (we set parameters to make data cleaning interesting)"
   ]
  },
  {
   "cell_type": "code",
   "execution_count": 3,
   "metadata": {},
   "outputs": [
    {
     "data": {
      "text/html": [
       "<div>\n",
       "<style scoped>\n",
       "    .dataframe tbody tr th:only-of-type {\n",
       "        vertical-align: middle;\n",
       "    }\n",
       "\n",
       "    .dataframe tbody tr th {\n",
       "        vertical-align: top;\n",
       "    }\n",
       "\n",
       "    .dataframe thead th {\n",
       "        text-align: right;\n",
       "    }\n",
       "</style>\n",
       "<table border=\"1\" class=\"dataframe\">\n",
       "  <thead>\n",
       "    <tr style=\"text-align: right;\">\n",
       "      <th></th>\n",
       "      <th>i</th>\n",
       "      <th>j</th>\n",
       "      <th>y</th>\n",
       "      <th>t</th>\n",
       "      <th>l</th>\n",
       "      <th>k</th>\n",
       "      <th>alpha</th>\n",
       "      <th>psi</th>\n",
       "    </tr>\n",
       "  </thead>\n",
       "  <tbody>\n",
       "    <tr>\n",
       "      <th>0</th>\n",
       "      <td>0</td>\n",
       "      <td>63</td>\n",
       "      <td>-0.618350</td>\n",
       "      <td>0</td>\n",
       "      <td>2</td>\n",
       "      <td>0</td>\n",
       "      <td>0.000000</td>\n",
       "      <td>-1.335178</td>\n",
       "    </tr>\n",
       "    <tr>\n",
       "      <th>1</th>\n",
       "      <td>0</td>\n",
       "      <td>63</td>\n",
       "      <td>-1.811602</td>\n",
       "      <td>1</td>\n",
       "      <td>2</td>\n",
       "      <td>0</td>\n",
       "      <td>0.000000</td>\n",
       "      <td>-1.335178</td>\n",
       "    </tr>\n",
       "    <tr>\n",
       "      <th>2</th>\n",
       "      <td>0</td>\n",
       "      <td>63</td>\n",
       "      <td>-1.750508</td>\n",
       "      <td>2</td>\n",
       "      <td>2</td>\n",
       "      <td>0</td>\n",
       "      <td>0.000000</td>\n",
       "      <td>-1.335178</td>\n",
       "    </tr>\n",
       "    <tr>\n",
       "      <th>3</th>\n",
       "      <td>0</td>\n",
       "      <td>63</td>\n",
       "      <td>-0.021734</td>\n",
       "      <td>3</td>\n",
       "      <td>2</td>\n",
       "      <td>0</td>\n",
       "      <td>0.000000</td>\n",
       "      <td>-1.335178</td>\n",
       "    </tr>\n",
       "    <tr>\n",
       "      <th>4</th>\n",
       "      <td>0</td>\n",
       "      <td>63</td>\n",
       "      <td>-1.753123</td>\n",
       "      <td>4</td>\n",
       "      <td>2</td>\n",
       "      <td>0</td>\n",
       "      <td>0.000000</td>\n",
       "      <td>-1.335178</td>\n",
       "    </tr>\n",
       "    <tr>\n",
       "      <th>...</th>\n",
       "      <td>...</td>\n",
       "      <td>...</td>\n",
       "      <td>...</td>\n",
       "      <td>...</td>\n",
       "      <td>...</td>\n",
       "      <td>...</td>\n",
       "      <td>...</td>\n",
       "      <td>...</td>\n",
       "    </tr>\n",
       "    <tr>\n",
       "      <th>49995</th>\n",
       "      <td>9999</td>\n",
       "      <td>361</td>\n",
       "      <td>-0.263988</td>\n",
       "      <td>0</td>\n",
       "      <td>1</td>\n",
       "      <td>3</td>\n",
       "      <td>-0.430727</td>\n",
       "      <td>-0.348756</td>\n",
       "    </tr>\n",
       "    <tr>\n",
       "      <th>49996</th>\n",
       "      <td>9999</td>\n",
       "      <td>361</td>\n",
       "      <td>-0.472704</td>\n",
       "      <td>1</td>\n",
       "      <td>1</td>\n",
       "      <td>3</td>\n",
       "      <td>-0.430727</td>\n",
       "      <td>-0.348756</td>\n",
       "    </tr>\n",
       "    <tr>\n",
       "      <th>49997</th>\n",
       "      <td>9999</td>\n",
       "      <td>361</td>\n",
       "      <td>0.518493</td>\n",
       "      <td>2</td>\n",
       "      <td>1</td>\n",
       "      <td>3</td>\n",
       "      <td>-0.430727</td>\n",
       "      <td>-0.348756</td>\n",
       "    </tr>\n",
       "    <tr>\n",
       "      <th>49998</th>\n",
       "      <td>9999</td>\n",
       "      <td>361</td>\n",
       "      <td>-1.102591</td>\n",
       "      <td>3</td>\n",
       "      <td>1</td>\n",
       "      <td>3</td>\n",
       "      <td>-0.430727</td>\n",
       "      <td>-0.348756</td>\n",
       "    </tr>\n",
       "    <tr>\n",
       "      <th>49999</th>\n",
       "      <td>9999</td>\n",
       "      <td>361</td>\n",
       "      <td>-1.553183</td>\n",
       "      <td>4</td>\n",
       "      <td>1</td>\n",
       "      <td>3</td>\n",
       "      <td>-0.430727</td>\n",
       "      <td>-0.348756</td>\n",
       "    </tr>\n",
       "  </tbody>\n",
       "</table>\n",
       "<p>50000 rows × 8 columns</p>\n",
       "</div>"
      ],
      "text/plain": [
       "          i    j         y  t  l  k     alpha       psi\n",
       "0         0   63 -0.618350  0  2  0  0.000000 -1.335178\n",
       "1         0   63 -1.811602  1  2  0  0.000000 -1.335178\n",
       "2         0   63 -1.750508  2  2  0  0.000000 -1.335178\n",
       "3         0   63 -0.021734  3  2  0  0.000000 -1.335178\n",
       "4         0   63 -1.753123  4  2  0  0.000000 -1.335178\n",
       "...     ...  ...       ... .. .. ..       ...       ...\n",
       "49995  9999  361 -0.263988  0  1  3 -0.430727 -0.348756\n",
       "49996  9999  361 -0.472704  1  1  3 -0.430727 -0.348756\n",
       "49997  9999  361  0.518493  2  1  3 -0.430727 -0.348756\n",
       "49998  9999  361 -1.102591  3  1  3 -0.430727 -0.348756\n",
       "49999  9999  361 -1.553183  4  1  3 -0.430727 -0.348756\n",
       "\n",
       "[50000 rows x 8 columns]"
      ]
     },
     "metadata": {},
     "output_type": "display_data"
    }
   ],
   "source": [
    "df = bpd.SimBipartite(bpd.sim_params({'firm_size': 10, 'p_move': 0.05})).simulate()\n",
    "display(df)"
   ]
  },
  {
   "cell_type": "markdown",
   "metadata": {},
   "source": [
    "## Columns\n",
    "\n",
    "BipartitePandas includes 5 pre-defined general columns:\n",
    "\n",
    "#### Required\n",
    "- $i$: worker id (any type)\n",
    "- $j$: firm id (any type)\n",
    "- $y$: income (float or int)\n",
    "\n",
    "#### Optional\n",
    "- $t$: time (int)\n",
    "- $g$: firm type (any type)\n",
    "- $w$: weight (float or int)\n",
    "- $m$: move indicator (int)\n",
    "\n",
    "## Formats\n",
    "\n",
    "BipartitePandas includes 4 formats:\n",
    "- *Long* - each row gives a single observation\n",
    "- *Collapsed Long* - like *Long*, but employment spells at the same firm are collapsed into a single observation\n",
    "- *Event Study* - each row gives two consecutive observations\n",
    "- *Collapsed Event Study* - like *Event Study*, but employment spells at the same firm are collapsed into a single observation\n",
    "\n",
    "These formats divide general columns differently:\n",
    "- *Long* - $i$, $j$, $y$, $t$, $g$, $w$, $m$\n",
    "- *Collapsed Long* - $i$, $j$, $y$, $t1$, $t2$, $g$, $w$, $m$\n",
    "- *Event Study* - $i$, $j1$, $j2$, $y1$, $y2$, $t1$, $t2$, $g1$, $g2$, $w1$, $w2$, $m$\n",
    "- *Collapsed Event Study* - $i$, $j1$, $j2$, $y1$, $y2$, $t11$, $t12$, $t21$, $t22$, $g1$, $g2$, $w1$, $w2$, $m$\n",
    "\n",
    "## Constructing DataFrames\n",
    "\n",
    "Our simulated data is in *Long* format. How do we construct a *Long* dataframe?"
   ]
  },
  {
   "cell_type": "code",
   "execution_count": 4,
   "metadata": {},
   "outputs": [
    {
     "data": {
      "text/html": [
       "<div>\n",
       "<style scoped>\n",
       "    .dataframe tbody tr th:only-of-type {\n",
       "        vertical-align: middle;\n",
       "    }\n",
       "\n",
       "    .dataframe tbody tr th {\n",
       "        vertical-align: top;\n",
       "    }\n",
       "\n",
       "    .dataframe thead th {\n",
       "        text-align: right;\n",
       "    }\n",
       "</style>\n",
       "<table border=\"1\" class=\"dataframe\">\n",
       "  <thead>\n",
       "    <tr style=\"text-align: right;\">\n",
       "      <th></th>\n",
       "      <th>i</th>\n",
       "      <th>j</th>\n",
       "      <th>y</th>\n",
       "      <th>t</th>\n",
       "    </tr>\n",
       "  </thead>\n",
       "  <tbody>\n",
       "    <tr>\n",
       "      <th>0</th>\n",
       "      <td>0</td>\n",
       "      <td>63</td>\n",
       "      <td>-0.618350</td>\n",
       "      <td>0</td>\n",
       "    </tr>\n",
       "    <tr>\n",
       "      <th>1</th>\n",
       "      <td>0</td>\n",
       "      <td>63</td>\n",
       "      <td>-1.811602</td>\n",
       "      <td>1</td>\n",
       "    </tr>\n",
       "    <tr>\n",
       "      <th>2</th>\n",
       "      <td>0</td>\n",
       "      <td>63</td>\n",
       "      <td>-1.750508</td>\n",
       "      <td>2</td>\n",
       "    </tr>\n",
       "    <tr>\n",
       "      <th>3</th>\n",
       "      <td>0</td>\n",
       "      <td>63</td>\n",
       "      <td>-0.021734</td>\n",
       "      <td>3</td>\n",
       "    </tr>\n",
       "    <tr>\n",
       "      <th>4</th>\n",
       "      <td>0</td>\n",
       "      <td>63</td>\n",
       "      <td>-1.753123</td>\n",
       "      <td>4</td>\n",
       "    </tr>\n",
       "    <tr>\n",
       "      <th>...</th>\n",
       "      <td>...</td>\n",
       "      <td>...</td>\n",
       "      <td>...</td>\n",
       "      <td>...</td>\n",
       "    </tr>\n",
       "    <tr>\n",
       "      <th>49995</th>\n",
       "      <td>9999</td>\n",
       "      <td>361</td>\n",
       "      <td>-0.263988</td>\n",
       "      <td>0</td>\n",
       "    </tr>\n",
       "    <tr>\n",
       "      <th>49996</th>\n",
       "      <td>9999</td>\n",
       "      <td>361</td>\n",
       "      <td>-0.472704</td>\n",
       "      <td>1</td>\n",
       "    </tr>\n",
       "    <tr>\n",
       "      <th>49997</th>\n",
       "      <td>9999</td>\n",
       "      <td>361</td>\n",
       "      <td>0.518493</td>\n",
       "      <td>2</td>\n",
       "    </tr>\n",
       "    <tr>\n",
       "      <th>49998</th>\n",
       "      <td>9999</td>\n",
       "      <td>361</td>\n",
       "      <td>-1.102591</td>\n",
       "      <td>3</td>\n",
       "    </tr>\n",
       "    <tr>\n",
       "      <th>49999</th>\n",
       "      <td>9999</td>\n",
       "      <td>361</td>\n",
       "      <td>-1.553183</td>\n",
       "      <td>4</td>\n",
       "    </tr>\n",
       "  </tbody>\n",
       "</table>\n",
       "<p>50000 rows × 4 columns</p>\n",
       "</div>"
      ],
      "text/plain": [
       "          i    j         y  t\n",
       "0         0   63 -0.618350  0\n",
       "1         0   63 -1.811602  1\n",
       "2         0   63 -1.750508  2\n",
       "3         0   63 -0.021734  3\n",
       "4         0   63 -1.753123  4\n",
       "...     ...  ...       ... ..\n",
       "49995  9999  361 -0.263988  0\n",
       "49996  9999  361 -0.472704  1\n",
       "49997  9999  361  0.518493  2\n",
       "49998  9999  361 -1.102591  3\n",
       "49999  9999  361 -1.553183  4\n",
       "\n",
       "[50000 rows x 4 columns]"
      ]
     },
     "metadata": {},
     "output_type": "display_data"
    }
   ],
   "source": [
    "i = df['i']\n",
    "j = df['j']\n",
    "y = df['y']\n",
    "t = df['t']\n",
    "bdf = bpd.BipartiteDataFrame(i=i, j=j, y=y, t=t)\n",
    "display(bdf)"
   ]
  },
  {
   "cell_type": "markdown",
   "metadata": {},
   "source": [
    "Are we sure this is long? Let's check the datatype:"
   ]
  },
  {
   "cell_type": "code",
   "execution_count": 5,
   "metadata": {},
   "outputs": [
    {
     "data": {
      "text/plain": [
       "bipartitepandas.bipartitelong.BipartiteLong"
      ]
     },
     "execution_count": 5,
     "metadata": {},
     "output_type": "execute_result"
    }
   ],
   "source": [
    "type(bdf)"
   ]
  },
  {
   "cell_type": "markdown",
   "metadata": {},
   "source": [
    "## Before we clean our data, let's check out some statistics"
   ]
  },
  {
   "cell_type": "code",
   "execution_count": 6,
   "metadata": {},
   "outputs": [
    {
     "name": "stdout",
     "output_type": "stream",
     "text": [
      "format: 'BipartiteLong'\n",
      "number of workers: 10000\n",
      "number of firms: 1000\n",
      "number of observations: 50000\n",
      "mean wage: -0.009399737891587488\n",
      "median wage: -0.006301350921179505\n",
      "min wage: -5.523671469790966\n",
      "max wage: 5.922274960525396\n",
      "var(wage): 2.6572896778352675\n",
      "no NaN values: False\n",
      "no duplicates: False\n",
      "i-t (worker-year) observations unique (None if t column(s) not included): False\n",
      "no returns (None if not yet computed): None\n",
      "contiguous 'i' ids (None if not included): False\n",
      "contiguous 'j' ids (None if not included): False\n",
      "contiguous 'g' ids (None if not included): None\n",
      "connectedness (None if ignoring connectedness): None\n"
     ]
    }
   ],
   "source": [
    "bdf.summary()"
   ]
  },
  {
   "cell_type": "markdown",
   "metadata": {},
   "source": [
    "## Now let's clean our data - and make sure the result is leave-one-observation-out connected\n",
    "\n",
    "Hint: want details on all cleaning parameters? Type `bpd.clean_params().describe_all()`, or search through `bpd.clean_params().keys()` for a particular key, and then type `bpd.clean_params().describe(key)`."
   ]
  },
  {
   "cell_type": "code",
   "execution_count": 7,
   "metadata": {},
   "outputs": [
    {
     "name": "stdout",
     "output_type": "stream",
     "text": [
      "KEY: 'connectedness'\n",
      "CURRENT VALUE: None\n",
      "VALID VALUES: one of ['connected', 'leave_out_observation', 'leave_out_spell', 'leave_out_match', 'leave_out_worker', 'leave_out_firm', None]\n",
      "DESCRIPTION: \n",
      "            (default=None) When computing largest connected set of firms: if 'connected', keep observations in the largest connected set of firms; if 'leave_out_observation', keep observations in the largest leave-one-observation-out connected set; if 'leave_out_spell', keep observations in the largest leave-one-spell-out connected set; if 'leave_out_match', keep observations in the largest leave-one-match-out connected set; if 'leave_out_worker', keep observations in the largest leave-one-worker-out connected set; if 'leave_out_firm', keep observations in the largest leave-one-firm-out connected set; if None, keep all observations.\n",
      "        \n",
      "KEY: 'component_size_variable'\n",
      "CURRENT VALUE: 'firms'\n",
      "VALID VALUES: one of ['len', 'length', 'firms', 'workers', 'stayers', 'movers', 'firms_plus_workers', 'firms_plus_stayers', 'firms_plus_movers', 'len_stayers', 'length_stayers', 'len_movers', 'length_movers', 'stays', 'moves']\n",
      "DESCRIPTION: \n",
      "        (default='firms') How to determine largest connected component. Options are 'len'/'length' (length of frames), 'firms' (number of unique firms), 'workers' (number of unique workers), 'stayers' (number of unique stayers), 'movers' (number of unique movers), 'firms_plus_workers' (number of unique firms + number of unique workers), 'firms_plus_stayers' (number of unique firms + number of unique stayers), 'firms_plus_movers' (number of unique firms + number of unique movers), 'len_stayers'/'length_stayers' (number of stayer observations), 'len_movers'/'length_movers' (number of mover observations), 'stays' (number of stay observations), and 'moves' (number of move observations).\n",
      "        \n",
      "KEY: 'i_t_how'\n",
      "CURRENT VALUE: 'max'\n",
      "VALID VALUES: one of type (<class 'builtin_function_or_method'>, <class 'function'>, <class 'method'>, <class 'str'>)\n",
      "DESCRIPTION: \n",
      "            (default='max') When dropping i-t duplicates: if 'max', keep max paying job; otherwise, take `how` over duplicate worker-firm-year observations, then take the highest paying worker-firm observation. `how` can take any input valid for a Pandas transform. Note that if multiple time and/or firm columns are included (as in collapsed long and event study formats), then data is converted to long, cleaned, then converted back to its original format.\n",
      "        \n",
      "KEY: 'drop_returns'\n",
      "CURRENT VALUE: False\n",
      "VALID VALUES: one of [False, 'returns', 'returners', 'keep_first_returns', 'keep_last_returns']\n",
      "DESCRIPTION: \n",
      "            (default=False) If 'returns', drop observations where workers leave a firm then return to it; if 'returners', drop workers who ever leave then return to a firm; if 'keep_first_returns', keep first spell where a worker leaves a firm then returns to it; if 'keep_last_returns', keep last spell where a worker leaves a firm then returns to it; if False, keep all observations.\n",
      "        \n",
      "KEY: 'drop_returns_to_stays'\n",
      "CURRENT VALUE: False\n",
      "VALID VALUES: one of type <class 'bool'>\n",
      "DESCRIPTION: \n",
      "            (default=False) Applies only if 'drop_returns' is set to False. If True, when recollapsing collapsed data, drop observations that need to be recollapsed instead of collapsing (this is for computational efficiency when re-collapsing data for leave-one-out connected components, where intermediate observations can be dropped, causing a worker who returns to a firm to become a stayer).\n",
      "        \n",
      "KEY: 'is_sorted'\n",
      "CURRENT VALUE: False\n",
      "VALID VALUES: one of type <class 'bool'>\n",
      "DESCRIPTION: \n",
      "            (default=False) If False, dataframe will be sorted by i (and t, if included). Returned dataframe will be sorted. Sorting may alter original dataframe if copy is set to False. Set is_sorted to True if dataframe is already sorted.\n",
      "        \n",
      "KEY: 'force'\n",
      "CURRENT VALUE: True\n",
      "VALID VALUES: one of type <class 'bool'>\n",
      "DESCRIPTION: \n",
      "            (default=True) If True, force all cleaning methods to run; much faster if set to False.\n",
      "        \n",
      "KEY: 'copy'\n",
      "CURRENT VALUE: True\n",
      "VALID VALUES: one of type <class 'bool'>\n",
      "DESCRIPTION: \n",
      "            (default=True) If False, avoid copying data when possible.\n",
      "        \n",
      "KEY: 'verbose'\n",
      "CURRENT VALUE: True\n",
      "VALID VALUES: one of type <class 'bool'>\n",
      "DESCRIPTION: \n",
      "            (default=True) If True, print progress during data cleaning.\n",
      "        \n"
     ]
    }
   ],
   "source": [
    "bpd.clean_params().describe_all()"
   ]
  },
  {
   "cell_type": "code",
   "execution_count": null,
   "metadata": {},
   "outputs": [],
   "source": [
    "bdf = bdf.clean(bpd.clean_params({'connectedness': 'leave_out_observation'}))\n",
    "display(bdf)"
   ]
  },
  {
   "cell_type": "markdown",
   "metadata": {},
   "source": [
    "We can check how the summary statistics changed:"
   ]
  },
  {
   "cell_type": "code",
   "execution_count": null,
   "metadata": {},
   "outputs": [],
   "source": [
    "bdf.summary()"
   ]
  },
  {
   "cell_type": "markdown",
   "metadata": {},
   "source": [
    "## Converting formats"
   ]
  },
  {
   "cell_type": "markdown",
   "metadata": {},
   "source": [
    "### *Collapsed* format"
   ]
  },
  {
   "cell_type": "code",
   "execution_count": null,
   "metadata": {},
   "outputs": [],
   "source": [
    "display(bdf.collapse())"
   ]
  },
  {
   "cell_type": "markdown",
   "metadata": {},
   "source": [
    "### *Event Study* format"
   ]
  },
  {
   "cell_type": "code",
   "execution_count": null,
   "metadata": {},
   "outputs": [],
   "source": [
    "display(bdf.to_eventstudy())"
   ]
  },
  {
   "cell_type": "markdown",
   "metadata": {},
   "source": [
    "### *Collapsed Event Study* format"
   ]
  },
  {
   "cell_type": "code",
   "execution_count": null,
   "metadata": {},
   "outputs": [],
   "source": [
    "display(bdf.collapse().to_eventstudy())"
   ]
  },
  {
   "cell_type": "markdown",
   "metadata": {},
   "source": [
    "## Generating firm clusters\n",
    "\n",
    "Notice the new $g$ column"
   ]
  },
  {
   "cell_type": "code",
   "execution_count": null,
   "metadata": {},
   "outputs": [],
   "source": [
    "display(bdf.cluster())"
   ]
  },
  {
   "cell_type": "code",
   "execution_count": null,
   "metadata": {},
   "outputs": [],
   "source": []
  }
 ],
 "metadata": {
  "kernelspec": {
   "display_name": "Python 3 (ipykernel)",
   "language": "python",
   "name": "python3"
  },
  "language_info": {
   "codemirror_mode": {
    "name": "ipython",
    "version": 3
   },
   "file_extension": ".py",
   "mimetype": "text/x-python",
   "name": "python",
   "nbconvert_exporter": "python",
   "pygments_lexer": "ipython3",
   "version": "3.7.11"
  }
 },
 "nbformat": 4,
 "nbformat_minor": 4
}
